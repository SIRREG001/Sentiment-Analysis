{
  "nbformat": 4,
  "nbformat_minor": 0,
  "metadata": {
    "colab": {
      "provenance": [],
      "authorship_tag": "ABX9TyOUI6VwOq0pcFeo+A+P/lIf",
      "include_colab_link": true
    },
    "kernelspec": {
      "name": "python3",
      "display_name": "Python 3"
    },
    "language_info": {
      "name": "python"
    }
  },
  "cells": [
    {
      "cell_type": "markdown",
      "metadata": {
        "id": "view-in-github",
        "colab_type": "text"
      },
      "source": [
        "<a href=\"https://colab.research.google.com/github/SIRREG001/Sentiment-Analysis/blob/main/Sentiment_Analysis.ipynb\" target=\"_parent\"><img src=\"https://colab.research.google.com/assets/colab-badge.svg\" alt=\"Open In Colab\"/></a>"
      ]
    },
    {
      "cell_type": "markdown",
      "source": [
        "Sentiment Analysis Procedure"
      ],
      "metadata": {
        "id": "PCCHoMWOqOTj"
      }
    },
    {
      "cell_type": "code",
      "execution_count": 2,
      "metadata": {
        "colab": {
          "base_uri": "https://localhost:8080/"
        },
        "id": "eq98JTdhl1-A",
        "outputId": "d8f286c5-8d1c-48e7-9fb2-fcf1e6105163"
      },
      "outputs": [
        {
          "output_type": "stream",
          "name": "stderr",
          "text": [
            "[nltk_data] Downloading package punkt to /root/nltk_data...\n",
            "[nltk_data]   Unzipping tokenizers/punkt.zip.\n",
            "[nltk_data] Downloading package stopwords to /root/nltk_data...\n",
            "[nltk_data]   Unzipping corpora/stopwords.zip.\n"
          ]
        },
        {
          "output_type": "execute_result",
          "data": {
            "text/plain": [
              "True"
            ]
          },
          "metadata": {},
          "execution_count": 2
        }
      ],
      "source": [
        "#Import important libraries from NLP toolkit\n",
        "import nltk\n",
        "from nltk.tokenize import word_tokenize\n",
        "from nltk.corpus import stopwords\n",
        "from nltk.stem import PorterStemmer\n",
        "\n",
        "#Download necessary nltk data\n",
        "nltk.download('punkt')\n",
        "nltk.download('stopwords')"
      ]
    },
    {
      "cell_type": "markdown",
      "source": [
        "Data Preprocessing\n"
      ],
      "metadata": {
        "id": "yLpQg9tJqa-_"
      }
    },
    {
      "cell_type": "code",
      "source": [
        "#Tokenize texts\n",
        "text = \"I love the movie called Extraction!\"\n",
        "tokens = word_tokenize(text)\n",
        "print(tokens)"
      ],
      "metadata": {
        "colab": {
          "base_uri": "https://localhost:8080/"
        },
        "id": "oIeAuREJwI4K",
        "outputId": "f695d4a5-9c6c-43f6-fa77-02494e9ab622"
      },
      "execution_count": 3,
      "outputs": [
        {
          "output_type": "stream",
          "name": "stdout",
          "text": [
            "['I', 'love', 'the', 'movie', 'called', 'Extraction', '!']\n"
          ]
        }
      ]
    },
    {
      "cell_type": "code",
      "source": [
        "#convert tokens to lowercase\n",
        "lowercase_tokens= [token.lower() for token in tokens]\n",
        "print(lowercase_tokens)\n"
      ],
      "metadata": {
        "colab": {
          "base_uri": "https://localhost:8080/"
        },
        "id": "lXcDh46Gzaa1",
        "outputId": "0e76efdb-ef62-4e1c-9b9d-f2e8aa2d1153"
      },
      "execution_count": 4,
      "outputs": [
        {
          "output_type": "stream",
          "name": "stdout",
          "text": [
            "['i', 'love', 'the', 'movie', 'called', 'extraction', '!']\n"
          ]
        }
      ]
    },
    {
      "cell_type": "code",
      "source": [
        "#remove stopwords: words that do not have much meaning in the text\n",
        "stopwords = set(stopwords.words('english'))\n",
        "filtered_tokens = [token for token in lowercase_tokens if token not in stopwords]\n",
        "print(filtered_tokens)\n",
        "print(stopwords)"
      ],
      "metadata": {
        "colab": {
          "base_uri": "https://localhost:8080/"
        },
        "id": "gNrB-2yn4KON",
        "outputId": "1d4ae5bc-bb70-4385-b607-452ebcf316fb"
      },
      "execution_count": 5,
      "outputs": [
        {
          "output_type": "stream",
          "name": "stdout",
          "text": [
            "['love', 'movie', 'called', 'extraction', '!']\n",
            "{'did', 'that', 'of', 'is', 'when', 're', 'other', \"doesn't\", 'from', 'each', 'ourselves', 'the', \"isn't\", 'at', 'yourselves', 'hasn', 've', 'yours', 'will', 'an', 'she', 'where', \"it's\", 'ours', 'doesn', 'him', 'under', \"mightn't\", \"needn't\", 'them', \"she's\", \"haven't\", 'i', 'his', 'hers', 'mustn', 'with', 'so', 'being', 'before', 'while', 'whom', 'we', 'wouldn', 'but', 'herself', 'in', 'their', 'ma', \"wasn't\", 'some', \"you're\", 'theirs', 'how', 'all', 'myself', \"that'll\", \"hasn't\", 'needn', \"weren't\", 'he', 'm', 'aren', \"didn't\", 'any', 'its', \"hadn't\", 'these', 'through', 'now', 'why', \"you've\", 'shouldn', 'then', 'who', 'your', 'both', 'too', 'o', \"don't\", 'up', 'over', \"wouldn't\", 'to', 'not', 'should', 'what', 'and', 'such', \"mustn't\", 'because', 'hadn', 'for', \"aren't\", 'are', 'once', 'here', 'me', 'during', 'only', \"you'd\", 'as', 'have', 'couldn', 'if', 'out', 'll', 'does', 'on', 'be', 's', 't', 'has', 'weren', \"should've\", 'shan', 'those', 'nor', 'own', 'there', 'by', \"shouldn't\", 'you', 'yourself', 'this', 'wasn', 'ain', 'few', 'after', 'into', 'no', 'do', 'above', 'her', 'about', 'which', 'very', 'don', 'my', 'our', \"couldn't\", \"shan't\", 'it', 'won', 'can', 'themselves', 'was', 'been', 'just', 'off', 'haven', 'doing', 'am', 'isn', 'same', 'had', 'd', 'a', 'further', 'y', 'they', \"you'll\", 'or', 'down', 'again', 'didn', 'most', 'itself', 'mightn', 'were', 'himself', 'than', \"won't\", 'below', 'more', 'until', 'having', 'between', 'against'}\n"
          ]
        }
      ]
    },
    {
      "cell_type": "code",
      "source": [
        "#remove punctuations\n",
        "import re\n",
        "cleaned_tokens = [re.sub(r'[^\\w\\s]', '', token) for token in filtered_tokens]\n",
        "print(cleaned_tokens)"
      ],
      "metadata": {
        "colab": {
          "base_uri": "https://localhost:8080/"
        },
        "id": "cptYlsIs5gw8",
        "outputId": "4b371ad7-3ed8-4b00-d6e7-c7ff6c4fe5e5"
      },
      "execution_count": 6,
      "outputs": [
        {
          "output_type": "stream",
          "name": "stdout",
          "text": [
            "['love', 'movie', 'called', 'extraction', '']\n"
          ]
        }
      ]
    },
    {
      "cell_type": "code",
      "source": [
        "#stemming and lemmatizing\n",
        "stemmer = PorterStemmer()\n",
        "stemmed_tokens = [stemmer.stem(token) for token in cleaned_tokens]\n",
        "print(stemmed_tokens)"
      ],
      "metadata": {
        "colab": {
          "base_uri": "https://localhost:8080/"
        },
        "id": "f-Asc6m5A-BD",
        "outputId": "b6c2221c-649d-4378-c2a3-34d7c7fb1c76"
      },
      "execution_count": 7,
      "outputs": [
        {
          "output_type": "stream",
          "name": "stdout",
          "text": [
            "['love', 'movi', 'call', 'extract', '']\n"
          ]
        }
      ]
    },
    {
      "cell_type": "markdown",
      "source": [
        "Feature Extraction"
      ],
      "metadata": {
        "id": "x4xwnjvITfh2"
      }
    },
    {
      "cell_type": "code",
      "source": [
        "!pip install scikit-learn\n"
      ],
      "metadata": {
        "colab": {
          "base_uri": "https://localhost:8080/"
        },
        "id": "755DswrpVlsy",
        "outputId": "64f38754-2a97-4da3-8d56-012d7da65320"
      },
      "execution_count": 8,
      "outputs": [
        {
          "output_type": "stream",
          "name": "stdout",
          "text": [
            "Requirement already satisfied: scikit-learn in /usr/local/lib/python3.10/dist-packages (1.2.2)\n",
            "Requirement already satisfied: numpy>=1.17.3 in /usr/local/lib/python3.10/dist-packages (from scikit-learn) (1.25.2)\n",
            "Requirement already satisfied: scipy>=1.3.2 in /usr/local/lib/python3.10/dist-packages (from scikit-learn) (1.11.4)\n",
            "Requirement already satisfied: joblib>=1.1.1 in /usr/local/lib/python3.10/dist-packages (from scikit-learn) (1.3.2)\n",
            "Requirement already satisfied: threadpoolctl>=2.0.0 in /usr/local/lib/python3.10/dist-packages (from scikit-learn) (3.4.0)\n"
          ]
        }
      ]
    },
    {
      "cell_type": "code",
      "source": [
        "# feature extraction is used to convert text into numerical values so that the algorithm can work on it\n",
        "import sklearn\n",
        "from sklearn.feature_extraction.text import CountVectorizer, TfidfVectorizer"
      ],
      "metadata": {
        "id": "26AqsyLOTzn5"
      },
      "execution_count": 9,
      "outputs": []
    },
    {
      "cell_type": "code",
      "source": [
        "corpus = [\"I love the movie called Extraction!\", \"This movie is great.\", \"I don't like Money heist\"]\n",
        "vectorizer = CountVectorizer()\n",
        "X = vectorizer.fit_transform(corpus)\n",
        "print(vectorizer.get_feature_names_out())\n",
        "print(X.toarray())"
      ],
      "metadata": {
        "colab": {
          "base_uri": "https://localhost:8080/"
        },
        "id": "KwgAp_RSp22q",
        "outputId": "1b8b061c-e784-4093-ca53-db1d14b7d9d3"
      },
      "execution_count": 11,
      "outputs": [
        {
          "output_type": "stream",
          "name": "stdout",
          "text": [
            "['called' 'don' 'extraction' 'great' 'heist' 'is' 'like' 'love' 'money'\n",
            " 'movie' 'the' 'this']\n",
            "[[1 0 1 0 0 0 0 1 0 1 1 0]\n",
            " [0 0 0 1 0 1 0 0 0 1 0 1]\n",
            " [0 1 0 0 1 0 1 0 1 0 0 0]]\n"
          ]
        }
      ]
    },
    {
      "cell_type": "code",
      "source": [
        "vectorizer2 = TfidfVectorizer()\n",
        "Y = vectorizer2.fit_transform(corpus)\n",
        "print(vectorizer2.get_feature_names_out())\n",
        "print(Y.toarray())"
      ],
      "metadata": {
        "colab": {
          "base_uri": "https://localhost:8080/"
        },
        "id": "L_RWgN0vsC26",
        "outputId": "3e955c6e-dac4-4524-f03f-4288a0276200"
      },
      "execution_count": 12,
      "outputs": [
        {
          "output_type": "stream",
          "name": "stdout",
          "text": [
            "['called' 'don' 'extraction' 'great' 'heist' 'is' 'like' 'love' 'money'\n",
            " 'movie' 'the' 'this']\n",
            "[[0.46735098 0.         0.46735098 0.         0.         0.\n",
            "  0.         0.46735098 0.         0.35543247 0.46735098 0.        ]\n",
            " [0.         0.         0.         0.52863461 0.         0.52863461\n",
            "  0.         0.         0.         0.40204024 0.         0.52863461]\n",
            " [0.         0.5        0.         0.         0.5        0.\n",
            "  0.5        0.         0.5        0.         0.         0.        ]]\n"
          ]
        }
      ]
    },
    {
      "cell_type": "markdown",
      "source": [
        "Working on real data: Financial Sentiment data from Kaggle.com"
      ],
      "metadata": {
        "id": "7s69tuGsxqiH"
      }
    },
    {
      "cell_type": "markdown",
      "source": [
        "Using SVM, a ML algorithm for Sentiment Analysis:"
      ],
      "metadata": {
        "id": "NKrH0gcAAZ5B"
      }
    },
    {
      "cell_type": "code",
      "source": [
        "#Importing important packages\n",
        "import pandas as pd\n",
        "from sklearn.model_selection import train_test_split\n",
        "from sklearn.feature_extraction.text import CountVectorizer\n",
        "from sklearn import svm\n",
        "from sklearn.metrics import accuracy_score"
      ],
      "metadata": {
        "id": "MyFa_NHzxy9e"
      },
      "execution_count": 18,
      "outputs": []
    },
    {
      "cell_type": "code",
      "source": [
        "#load the dataset from csv\n",
        "\n",
        "data = pd.read_csv('data.csv')\n",
        "X = data['Sentence']\n",
        "y = data['Sentiment']"
      ],
      "metadata": {
        "id": "XzzrlNKP89Qc"
      },
      "execution_count": 19,
      "outputs": []
    },
    {
      "cell_type": "code",
      "source": [
        "print(X)\n",
        "print(y)"
      ],
      "metadata": {
        "colab": {
          "base_uri": "https://localhost:8080/"
        },
        "id": "_EkgMq809US6",
        "outputId": "edb99701-0cfe-4820-8606-2b0910dfda67"
      },
      "execution_count": 20,
      "outputs": [
        {
          "output_type": "stream",
          "name": "stdout",
          "text": [
            "0       The GeoSolutions technology will leverage Bene...\n",
            "1       $ESI on lows, down $1.50 to $2.50 BK a real po...\n",
            "2       For the last quarter of 2010 , Componenta 's n...\n",
            "3       According to the Finnish-Russian Chamber of Co...\n",
            "4       The Swedish buyout firm has sold its remaining...\n",
            "                              ...                        \n",
            "5837    RISING costs have forced packaging producer Hu...\n",
            "5838    Nordic Walking was first used as a summer trai...\n",
            "5839    According shipping company Viking Line , the E...\n",
            "5840    In the building and home improvement trade , s...\n",
            "5841    HELSINKI AFX - KCI Konecranes said it has won ...\n",
            "Name: Sentence, Length: 5842, dtype: object\n",
            "0       positive\n",
            "1       negative\n",
            "2       positive\n",
            "3        neutral\n",
            "4        neutral\n",
            "          ...   \n",
            "5837    negative\n",
            "5838     neutral\n",
            "5839     neutral\n",
            "5840     neutral\n",
            "5841    positive\n",
            "Name: Sentiment, Length: 5842, dtype: object\n"
          ]
        }
      ]
    },
    {
      "cell_type": "code",
      "source": [
        "#split the dataset into training and testing sets\n",
        "\n",
        "X_train, X_test, y_train, y_test = train_test_split(X, y, test_size=0.2, random_state=42)\n"
      ],
      "metadata": {
        "id": "Gf0BWJsj9AvV"
      },
      "execution_count": 22,
      "outputs": []
    },
    {
      "cell_type": "code",
      "source": [
        "#Feature extraction\n",
        "vectorizer = CountVectorizer()\n",
        "X_train_features = vectorizer.fit_transform(X_train)\n",
        "X_test_features = vectorizer.transform(X_test)"
      ],
      "metadata": {
        "id": "vlCb4NAv9EkY"
      },
      "execution_count": 23,
      "outputs": []
    },
    {
      "cell_type": "code",
      "source": [
        "#Train the SVM classifier: Which is a ML algorithm used for the Sentiment analysis\n",
        "clf = svm.SVC()\n",
        "clf.fit(X_train_features, y_train)"
      ],
      "metadata": {
        "colab": {
          "base_uri": "https://localhost:8080/",
          "height": 74
        },
        "id": "XeWVqdI_9JTg",
        "outputId": "0fa989ff-a818-40ae-ae7d-cd24eba66eec"
      },
      "execution_count": 24,
      "outputs": [
        {
          "output_type": "execute_result",
          "data": {
            "text/plain": [
              "SVC()"
            ],
            "text/html": [
              "<style>#sk-container-id-2 {color: black;background-color: white;}#sk-container-id-2 pre{padding: 0;}#sk-container-id-2 div.sk-toggleable {background-color: white;}#sk-container-id-2 label.sk-toggleable__label {cursor: pointer;display: block;width: 100%;margin-bottom: 0;padding: 0.3em;box-sizing: border-box;text-align: center;}#sk-container-id-2 label.sk-toggleable__label-arrow:before {content: \"▸\";float: left;margin-right: 0.25em;color: #696969;}#sk-container-id-2 label.sk-toggleable__label-arrow:hover:before {color: black;}#sk-container-id-2 div.sk-estimator:hover label.sk-toggleable__label-arrow:before {color: black;}#sk-container-id-2 div.sk-toggleable__content {max-height: 0;max-width: 0;overflow: hidden;text-align: left;background-color: #f0f8ff;}#sk-container-id-2 div.sk-toggleable__content pre {margin: 0.2em;color: black;border-radius: 0.25em;background-color: #f0f8ff;}#sk-container-id-2 input.sk-toggleable__control:checked~div.sk-toggleable__content {max-height: 200px;max-width: 100%;overflow: auto;}#sk-container-id-2 input.sk-toggleable__control:checked~label.sk-toggleable__label-arrow:before {content: \"▾\";}#sk-container-id-2 div.sk-estimator input.sk-toggleable__control:checked~label.sk-toggleable__label {background-color: #d4ebff;}#sk-container-id-2 div.sk-label input.sk-toggleable__control:checked~label.sk-toggleable__label {background-color: #d4ebff;}#sk-container-id-2 input.sk-hidden--visually {border: 0;clip: rect(1px 1px 1px 1px);clip: rect(1px, 1px, 1px, 1px);height: 1px;margin: -1px;overflow: hidden;padding: 0;position: absolute;width: 1px;}#sk-container-id-2 div.sk-estimator {font-family: monospace;background-color: #f0f8ff;border: 1px dotted black;border-radius: 0.25em;box-sizing: border-box;margin-bottom: 0.5em;}#sk-container-id-2 div.sk-estimator:hover {background-color: #d4ebff;}#sk-container-id-2 div.sk-parallel-item::after {content: \"\";width: 100%;border-bottom: 1px solid gray;flex-grow: 1;}#sk-container-id-2 div.sk-label:hover label.sk-toggleable__label {background-color: #d4ebff;}#sk-container-id-2 div.sk-serial::before {content: \"\";position: absolute;border-left: 1px solid gray;box-sizing: border-box;top: 0;bottom: 0;left: 50%;z-index: 0;}#sk-container-id-2 div.sk-serial {display: flex;flex-direction: column;align-items: center;background-color: white;padding-right: 0.2em;padding-left: 0.2em;position: relative;}#sk-container-id-2 div.sk-item {position: relative;z-index: 1;}#sk-container-id-2 div.sk-parallel {display: flex;align-items: stretch;justify-content: center;background-color: white;position: relative;}#sk-container-id-2 div.sk-item::before, #sk-container-id-2 div.sk-parallel-item::before {content: \"\";position: absolute;border-left: 1px solid gray;box-sizing: border-box;top: 0;bottom: 0;left: 50%;z-index: -1;}#sk-container-id-2 div.sk-parallel-item {display: flex;flex-direction: column;z-index: 1;position: relative;background-color: white;}#sk-container-id-2 div.sk-parallel-item:first-child::after {align-self: flex-end;width: 50%;}#sk-container-id-2 div.sk-parallel-item:last-child::after {align-self: flex-start;width: 50%;}#sk-container-id-2 div.sk-parallel-item:only-child::after {width: 0;}#sk-container-id-2 div.sk-dashed-wrapped {border: 1px dashed gray;margin: 0 0.4em 0.5em 0.4em;box-sizing: border-box;padding-bottom: 0.4em;background-color: white;}#sk-container-id-2 div.sk-label label {font-family: monospace;font-weight: bold;display: inline-block;line-height: 1.2em;}#sk-container-id-2 div.sk-label-container {text-align: center;}#sk-container-id-2 div.sk-container {/* jupyter's `normalize.less` sets `[hidden] { display: none; }` but bootstrap.min.css set `[hidden] { display: none !important; }` so we also need the `!important` here to be able to override the default hidden behavior on the sphinx rendered scikit-learn.org. See: https://github.com/scikit-learn/scikit-learn/issues/21755 */display: inline-block !important;position: relative;}#sk-container-id-2 div.sk-text-repr-fallback {display: none;}</style><div id=\"sk-container-id-2\" class=\"sk-top-container\"><div class=\"sk-text-repr-fallback\"><pre>SVC()</pre><b>In a Jupyter environment, please rerun this cell to show the HTML representation or trust the notebook. <br />On GitHub, the HTML representation is unable to render, please try loading this page with nbviewer.org.</b></div><div class=\"sk-container\" hidden><div class=\"sk-item\"><div class=\"sk-estimator sk-toggleable\"><input class=\"sk-toggleable__control sk-hidden--visually\" id=\"sk-estimator-id-2\" type=\"checkbox\" checked><label for=\"sk-estimator-id-2\" class=\"sk-toggleable__label sk-toggleable__label-arrow\">SVC</label><div class=\"sk-toggleable__content\"><pre>SVC()</pre></div></div></div></div></div>"
            ]
          },
          "metadata": {},
          "execution_count": 24
        }
      ]
    },
    {
      "cell_type": "code",
      "source": [
        "#Make predictions\n",
        "y_predict = clf.predict(X_test_features)\n",
        "\n",
        "#Evaluate the model\n",
        "accuracy = accuracy_score(y_test, y_predict)\n",
        "print(\"accuracy:\", accuracy)"
      ],
      "metadata": {
        "colab": {
          "base_uri": "https://localhost:8080/"
        },
        "id": "5VxV3Y3v9OQZ",
        "outputId": "31a148b9-c1d6-496d-ef1c-fe8b6c36ba4b"
      },
      "execution_count": 25,
      "outputs": [
        {
          "output_type": "stream",
          "name": "stdout",
          "text": [
            "accuracy: 0.6920444824636441\n"
          ]
        }
      ]
    },
    {
      "cell_type": "markdown",
      "source": [
        "Using Keras, a ML algorithm for Sentiment Analysis"
      ],
      "metadata": {
        "id": "mW2MsPlnAWf2"
      }
    },
    {
      "cell_type": "code",
      "source": [
        "#import important modules\n",
        "from tensorflow import keras\n",
        "from tensorflow.keras.layers import Embedding, LSTM, Dense\n",
        "from tensorflow.keras.preprocessing.text import Tokenizer\n",
        "from tensorflow.keras.preprocessing.sequence import pad_sequences\n",
        "from sklearn.model_selection import train_test_split\n",
        "import pandas as pd"
      ],
      "metadata": {
        "id": "jAgfjGyEAvTZ"
      },
      "execution_count": 26,
      "outputs": []
    },
    {
      "cell_type": "code",
      "source": [
        "#split the dataset into features(x) and labels(y)\n",
        "sentences = data['Sentence'].values\n",
        "#set positive sentiment to the value of 1 and negative sentiment to 0\n",
        "labels = data['Sentiment'].apply(lambda x: 1 if x == 'positive' else 0).values"
      ],
      "metadata": {
        "id": "czco3T6JEguV"
      },
      "execution_count": 27,
      "outputs": []
    },
    {
      "cell_type": "code",
      "source": [
        "#Tokenize the sentences\n",
        "tokenizer = Tokenizer(num_words=5000, oov_token='<00V>')\n",
        "tokenizer.fit_on_texts(sentences)\n",
        "sequences = tokenizer.texts_to_sequences(sentences)"
      ],
      "metadata": {
        "id": "MPhNQ_41JldI"
      },
      "execution_count": 28,
      "outputs": []
    },
    {
      "cell_type": "code",
      "source": [
        "#pad the sequences\n",
        "padded_sequences = pad_sequences(sequences, padding='post')\n",
        "\n",
        "#split the dataset into training and testing sets\n",
        "X_train, X_test, y_train, y_test = train_test_split(padded_sequences, labels, test_size=0.2, random_state=42)\n"
      ],
      "metadata": {
        "id": "3I4_nPEEJXgN"
      },
      "execution_count": 29,
      "outputs": []
    },
    {
      "cell_type": "code",
      "source": [
        "#define the neural network architecture\n",
        "vocab_size = len(tokenizer.word_index) + 1 # Adding 1 because of reserved 0 index for padding\n",
        "embedding_dim = 100 #any size can be chosen here for the embedding_dim\n",
        "max_length = len(max(sequences, key=len))\n",
        "\n",
        "model = keras.Sequential()\n",
        "model.add(Embedding(input_dim=vocab_size, output_dim=embedding_dim, input_length=max_length))\n",
        "model.add(LSTM(units=120))\n",
        "model.add(Dense(units=1, activation='sigmoid'))\n",
        "\n",
        "#compile the model\n",
        "model.compile(optimizer='adam', loss='binary_crossentropy', metrics=['accuracy'])\n"
      ],
      "metadata": {
        "id": "0_0YZ8yyMtYh"
      },
      "execution_count": 30,
      "outputs": []
    },
    {
      "cell_type": "code",
      "source": [
        "#Train the model\n",
        "model.fit(X_train, y_train, epochs=10, batch_size=32)\n",
        "\n",
        "#Evaluate the model\n",
        "loss, accuracy = model.evaluate(X_test, y_test)\n",
        "print(\"Loss:\", loss)\n",
        "print(\"Accuracy:\", accuracy)"
      ],
      "metadata": {
        "colab": {
          "base_uri": "https://localhost:8080/"
        },
        "id": "UD0JUGxkPDrd",
        "outputId": "945e17b4-f5ee-422c-9d34-e5cd633e43af"
      },
      "execution_count": 31,
      "outputs": [
        {
          "output_type": "stream",
          "name": "stdout",
          "text": [
            "Epoch 1/10\n",
            "147/147 [==============================] - 20s 115ms/step - loss: 0.6270 - accuracy: 0.6820\n",
            "Epoch 2/10\n",
            "147/147 [==============================] - 16s 111ms/step - loss: 0.6285 - accuracy: 0.6833\n",
            "Epoch 3/10\n",
            "147/147 [==============================] - 17s 119ms/step - loss: 0.6255 - accuracy: 0.6833\n",
            "Epoch 4/10\n",
            "147/147 [==============================] - 16s 110ms/step - loss: 0.6263 - accuracy: 0.6833\n",
            "Epoch 5/10\n",
            "147/147 [==============================] - 16s 111ms/step - loss: 0.6251 - accuracy: 0.6833\n",
            "Epoch 6/10\n",
            "147/147 [==============================] - 18s 125ms/step - loss: 0.6258 - accuracy: 0.6833\n",
            "Epoch 7/10\n",
            "147/147 [==============================] - 17s 114ms/step - loss: 0.6251 - accuracy: 0.6833\n",
            "Epoch 8/10\n",
            "147/147 [==============================] - 16s 109ms/step - loss: 0.6246 - accuracy: 0.6833\n",
            "Epoch 9/10\n",
            "147/147 [==============================] - 18s 124ms/step - loss: 0.6256 - accuracy: 0.6833\n",
            "Epoch 10/10\n",
            "147/147 [==============================] - 16s 112ms/step - loss: 0.6257 - accuracy: 0.6833\n",
            "37/37 [==============================] - 2s 31ms/step - loss: 0.6264 - accuracy: 0.6818\n",
            "Loss: 0.6264046430587769\n",
            "Accuracy: 0.6817793250083923\n"
          ]
        }
      ]
    }
  ]
}